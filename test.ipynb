{
 "cells": [
  {
   "cell_type": "code",
   "execution_count": 1,
   "metadata": {},
   "outputs": [
    {
     "name": "stderr",
     "output_type": "stream",
     "text": [
      "Using TensorFlow backend.\n"
     ]
    },
    {
     "ename": "SystemExit",
     "evalue": "0",
     "output_type": "error",
     "traceback": [
      "An exception has occurred, use %tb to see the full traceback.\n",
      "\u001b[0;31mSystemExit\u001b[0m\u001b[0;31m:\u001b[0m 0\n"
     ]
    }
   ],
   "source": [
    "# %load runMain.py\n",
    "# -*- coding: utf-8 -*-\n",
    "\"\"\"\n",
    "The library it needs：\n",
    "    keras 2.2.4\n",
    "    PyQt5 5.11.3\n",
    "    pandas 0.24.2\n",
    "    scikit-learn 0.21.2\n",
    "    tensorflow 1.13.1\n",
    "    imutils 0.5.2\n",
    "    opencv-python 4.10.25\n",
    "    matplotlib 3.2.1 \n",
    "\n",
    "here is the main function: runMain.py\n",
    "\"\"\"\n",
    "# @Time    : 12/07/2020\n",
    "# @Author  : Yibo li\n",
    "# @Email   : lslsls0001@gmail.com\n",
    "# @Software: Anaconda\n",
    "# @version : 2.2 \n",
    "\n",
    "import warnings\n",
    "import os\n",
    "# ignore the warning\n",
    "os.environ[\"TF_CPP_MIN_LOG_LEVEL\"] = \"3\"\n",
    "warnings.filterwarnings(action='ignore')\n",
    "from EmotionRecongnition import Ui_MainWindow\n",
    "from sys import argv, exit\n",
    "from PyQt5.QtWidgets import QApplication,QMainWindow\n",
    "\n",
    "\n",
    "if __name__ == '__main__':\n",
    "    app = QApplication(argv)\n",
    "\n",
    "    window = QMainWindow()\n",
    "    ui = Ui_MainWindow(window)\n",
    "\n",
    "    window.show()\n",
    "    exit(app.exec_())\n"
   ]
  },
  {
   "cell_type": "code",
   "execution_count": null,
   "metadata": {},
   "outputs": [],
   "source": []
  }
 ],
 "metadata": {
  "kernelspec": {
   "display_name": "Python 3",
   "language": "python",
   "name": "python3"
  },
  "language_info": {
   "codemirror_mode": {
    "name": "ipython",
    "version": 3
   },
   "file_extension": ".py",
   "mimetype": "text/x-python",
   "name": "python",
   "nbconvert_exporter": "python",
   "pygments_lexer": "ipython3",
   "version": "3.6.10"
  }
 },
 "nbformat": 4,
 "nbformat_minor": 4
}
